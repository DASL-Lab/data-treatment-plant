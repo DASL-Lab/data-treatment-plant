{
 "cells": [
  {
   "cell_type": "markdown",
   "metadata": {},
   "source": [
    "# PRJEB61810 - Gurol et al.\n",
    "\n",
    "Article link: [https://www.researchsquare.com/article/rs-4880585/v1](https://www.researchsquare.com/article/rs-4880585/v1)."
   ]
  },
  {
   "cell_type": "code",
   "execution_count": 1,
   "metadata": {
    "vscode": {
     "languageId": "r"
    }
   },
   "outputs": [],
   "source": [
    "suppressPackageStartupMessages({\n",
    "    library(provoc)\n",
    "    library(here)\n",
    "    library(ggplot2)\n",
    "    library(lubridate)\n",
    "})\n",
    "\n",
    "prj <- \"PRJEB61810\"\n",
    "lineages_in_paper <- c(\"BA.2\", \"CH.1.1\", \"BA.5\", \"BQ.1\", \"XBB\", \"XBB.1.5\", \"XBB.1.9\", \"XBB.1.16\", \"XBB.s.3\")\n"
   ]
  },
  {
   "cell_type": "code",
   "execution_count": 2,
   "metadata": {
    "vscode": {
     "languageId": "r"
    }
   },
   "outputs": [
    {
     "data": {
      "text/html": [
       "<table class=\"dataframe\">\n",
       "<caption>A data.frame: 6 x 16</caption>\n",
       "<thead>\n",
       "\t<tr><th></th><th scope=col>position</th><th scope=col>label</th><th scope=col>mutation</th><th scope=col>frequency</th><th scope=col>coverage</th><th scope=col>count</th><th scope=col>sra</th><th scope=col>date</th><th scope=col>sample_name</th><th scope=col>avg_spot_len</th><th scope=col>bases</th><th scope=col>bioproject</th><th scope=col>location</th><th scope=col>lat</th><th scope=col>lon</th><th scope=col>ww_population</th></tr>\n",
       "\t<tr><th></th><th scope=col>&lt;int&gt;</th><th scope=col>&lt;chr&gt;</th><th scope=col>&lt;chr&gt;</th><th scope=col>&lt;dbl&gt;</th><th scope=col>&lt;int&gt;</th><th scope=col>&lt;int&gt;</th><th scope=col>&lt;chr&gt;</th><th scope=col>&lt;chr&gt;</th><th scope=col>&lt;chr&gt;</th><th scope=col>&lt;int&gt;</th><th scope=col>&lt;dbl&gt;</th><th scope=col>&lt;chr&gt;</th><th scope=col>&lt;chr&gt;</th><th scope=col>&lt;dbl&gt;</th><th scope=col>&lt;dbl&gt;</th><th scope=col>&lt;int&gt;</th></tr>\n",
       "</thead>\n",
       "<tbody>\n",
       "\t<tr><th scope=row>1</th><td>10386</td><td>+10387.T </td><td>ins:10387:1</td><td>0.110548824</td><td>14030</td><td>1551</td><td>ERR12330860</td><td>2023-01-03</td><td>SAMEA114705162</td><td>185</td><td>833359305</td><td>PRJEB61810</td><td>Malm<c3><b6></td><td>55.63</td><td>13.04</td><td>350000</td></tr>\n",
       "\t<tr><th scope=row>2</th><td>10527</td><td>+10528.T </td><td>ins:10528:1</td><td>0.115302186</td><td> 4666</td><td> 538</td><td>ERR12330860</td><td>2023-01-03</td><td>SAMEA114705162</td><td>185</td><td>833359305</td><td>PRJEB61810</td><td>Malm<c3><b6></td><td>55.63</td><td>13.04</td><td>350000</td></tr>\n",
       "\t<tr><th scope=row>3</th><td> 1077</td><td>+1078.A  </td><td>ins:1078:1 </td><td>0.071404090</td><td> 8753</td><td> 625</td><td>ERR12330860</td><td>2023-01-03</td><td>SAMEA114705162</td><td>185</td><td>833359305</td><td>PRJEB61810</td><td>Malm<c3><b6></td><td>55.63</td><td>13.04</td><td>350000</td></tr>\n",
       "\t<tr><th scope=row>4</th><td>11042</td><td>+11043.T </td><td>ins:11043:1</td><td>0.044637576</td><td>21977</td><td> 981</td><td>ERR12330860</td><td>2023-01-03</td><td>SAMEA114705162</td><td>185</td><td>833359305</td><td>PRJEB61810</td><td>Malm<c3><b6></td><td>55.63</td><td>13.04</td><td>350000</td></tr>\n",
       "\t<tr><th scope=row>5</th><td>11074</td><td>+11075.T </td><td>ins:11075:1</td><td>0.049914561</td><td>22238</td><td>1110</td><td>ERR12330860</td><td>2023-01-03</td><td>SAMEA114705162</td><td>185</td><td>833359305</td><td>PRJEB61810</td><td>Malm<c3><b6></td><td>55.63</td><td>13.04</td><td>350000</td></tr>\n",
       "\t<tr><th scope=row>6</th><td>11074</td><td>+11075.TT</td><td>ins:11075:2</td><td>0.006340498</td><td>22238</td><td> 141</td><td>ERR12330860</td><td>2023-01-03</td><td>SAMEA114705162</td><td>185</td><td>833359305</td><td>PRJEB61810</td><td>Malm<c3><b6></td><td>55.63</td><td>13.04</td><td>350000</td></tr>\n",
       "</tbody>\n",
       "</table>\n"
      ],
      "text/latex": [
       "A data.frame: 6 x 16\n",
       "\\begin{tabular}{r|llllllllllllllll}\n",
       "  & position & label & mutation & frequency & coverage & count & sra & date & sample\\_name & avg\\_spot\\_len & bases & bioproject & location & lat & lon & ww\\_population\\\\\n",
       "  & <int> & <chr> & <chr> & <dbl> & <int> & <int> & <chr> & <chr> & <chr> & <int> & <dbl> & <chr> & <chr> & <dbl> & <dbl> & <int>\\\\\n",
       "\\hline\n",
       "\t1 & 10386 & +10387.T  & ins:10387:1 & 0.110548824 & 14030 & 1551 & ERR12330860 & 2023-01-03 & SAMEA114705162 & 185 & 833359305 & PRJEB61810 & Malm<c3><b6> & 55.63 & 13.04 & 350000\\\\\n",
       "\t2 & 10527 & +10528.T  & ins:10528:1 & 0.115302186 &  4666 &  538 & ERR12330860 & 2023-01-03 & SAMEA114705162 & 185 & 833359305 & PRJEB61810 & Malm<c3><b6> & 55.63 & 13.04 & 350000\\\\\n",
       "\t3 &  1077 & +1078.A   & ins:1078:1  & 0.071404090 &  8753 &  625 & ERR12330860 & 2023-01-03 & SAMEA114705162 & 185 & 833359305 & PRJEB61810 & Malm<c3><b6> & 55.63 & 13.04 & 350000\\\\\n",
       "\t4 & 11042 & +11043.T  & ins:11043:1 & 0.044637576 & 21977 &  981 & ERR12330860 & 2023-01-03 & SAMEA114705162 & 185 & 833359305 & PRJEB61810 & Malm<c3><b6> & 55.63 & 13.04 & 350000\\\\\n",
       "\t5 & 11074 & +11075.T  & ins:11075:1 & 0.049914561 & 22238 & 1110 & ERR12330860 & 2023-01-03 & SAMEA114705162 & 185 & 833359305 & PRJEB61810 & Malm<c3><b6> & 55.63 & 13.04 & 350000\\\\\n",
       "\t6 & 11074 & +11075.TT & ins:11075:2 & 0.006340498 & 22238 &  141 & ERR12330860 & 2023-01-03 & SAMEA114705162 & 185 & 833359305 & PRJEB61810 & Malm<c3><b6> & 55.63 & 13.04 & 350000\\\\\n",
       "\\end{tabular}\n"
      ],
      "text/markdown": [
       "\n",
       "A data.frame: 6 x 16\n",
       "\n",
       "| <!--/--> | position &lt;int&gt; | label &lt;chr&gt; | mutation &lt;chr&gt; | frequency &lt;dbl&gt; | coverage &lt;int&gt; | count &lt;int&gt; | sra &lt;chr&gt; | date &lt;chr&gt; | sample_name &lt;chr&gt; | avg_spot_len &lt;int&gt; | bases &lt;dbl&gt; | bioproject &lt;chr&gt; | location &lt;chr&gt; | lat &lt;dbl&gt; | lon &lt;dbl&gt; | ww_population &lt;int&gt; |\n",
       "|---|---|---|---|---|---|---|---|---|---|---|---|---|---|---|---|---|\n",
       "| 1 | 10386 | +10387.T  | ins:10387:1 | 0.110548824 | 14030 | 1551 | ERR12330860 | 2023-01-03 | SAMEA114705162 | 185 | 833359305 | PRJEB61810 | Malm<c3><b6> | 55.63 | 13.04 | 350000 |\n",
       "| 2 | 10527 | +10528.T  | ins:10528:1 | 0.115302186 |  4666 |  538 | ERR12330860 | 2023-01-03 | SAMEA114705162 | 185 | 833359305 | PRJEB61810 | Malm<c3><b6> | 55.63 | 13.04 | 350000 |\n",
       "| 3 |  1077 | +1078.A   | ins:1078:1  | 0.071404090 |  8753 |  625 | ERR12330860 | 2023-01-03 | SAMEA114705162 | 185 | 833359305 | PRJEB61810 | Malm<c3><b6> | 55.63 | 13.04 | 350000 |\n",
       "| 4 | 11042 | +11043.T  | ins:11043:1 | 0.044637576 | 21977 |  981 | ERR12330860 | 2023-01-03 | SAMEA114705162 | 185 | 833359305 | PRJEB61810 | Malm<c3><b6> | 55.63 | 13.04 | 350000 |\n",
       "| 5 | 11074 | +11075.T  | ins:11075:1 | 0.049914561 | 22238 | 1110 | ERR12330860 | 2023-01-03 | SAMEA114705162 | 185 | 833359305 | PRJEB61810 | Malm<c3><b6> | 55.63 | 13.04 | 350000 |\n",
       "| 6 | 11074 | +11075.TT | ins:11075:2 | 0.006340498 | 22238 |  141 | ERR12330860 | 2023-01-03 | SAMEA114705162 | 185 | 833359305 | PRJEB61810 | Malm<c3><b6> | 55.63 | 13.04 | 350000 |\n",
       "\n"
      ],
      "text/plain": [
       "  position label     mutation    frequency   coverage count sra        \n",
       "1 10386    +10387.T  ins:10387:1 0.110548824 14030    1551  ERR12330860\n",
       "2 10527    +10528.T  ins:10528:1 0.115302186  4666     538  ERR12330860\n",
       "3  1077    +1078.A   ins:1078:1  0.071404090  8753     625  ERR12330860\n",
       "4 11042    +11043.T  ins:11043:1 0.044637576 21977     981  ERR12330860\n",
       "5 11074    +11075.T  ins:11075:1 0.049914561 22238    1110  ERR12330860\n",
       "6 11074    +11075.TT ins:11075:2 0.006340498 22238     141  ERR12330860\n",
       "  date       sample_name    avg_spot_len bases     bioproject location    \n",
       "1 2023-01-03 SAMEA114705162 185          833359305 PRJEB61810 Malm\\303\\266\n",
       "2 2023-01-03 SAMEA114705162 185          833359305 PRJEB61810 Malm\\303\\266\n",
       "3 2023-01-03 SAMEA114705162 185          833359305 PRJEB61810 Malm\\303\\266\n",
       "4 2023-01-03 SAMEA114705162 185          833359305 PRJEB61810 Malm\\303\\266\n",
       "5 2023-01-03 SAMEA114705162 185          833359305 PRJEB61810 Malm\\303\\266\n",
       "6 2023-01-03 SAMEA114705162 185          833359305 PRJEB61810 Malm\\303\\266\n",
       "  lat   lon   ww_population\n",
       "1 55.63 13.04 350000       \n",
       "2 55.63 13.04 350000       \n",
       "3 55.63 13.04 350000       \n",
       "4 55.63 13.04 350000       \n",
       "5 55.63 13.04 350000       \n",
       "6 55.63 13.04 350000       "
      ]
     },
     "metadata": {},
     "output_type": "display_data"
    }
   ],
   "source": [
    "coco <- read.csv(\n",
    "  here(\n",
    "    \"data/processed/\",\n",
    "    paste0(prj, \"_processed.csv.gz\")\n",
    "  )\n",
    ")\n",
    "coco$mutation <- parse_mutations(coco$label)\n",
    "head(coco)\n"
   ]
  },
  {
   "cell_type": "code",
   "execution_count": 3,
   "metadata": {
    "vscode": {
     "languageId": "r"
    }
   },
   "outputs": [
    {
     "data": {
      "text/html": [
       "<style>\n",
       ".list-inline {list-style: none; margin:0; padding: 0}\n",
       ".list-inline>li {display: inline-block}\n",
       ".list-inline>li:not(:last-child)::after {content: \"\\00b7\"; padding: 0 .5ex}\n",
       "</style>\n",
       "<ol class=list-inline><li>8</li><li>128</li></ol>\n"
      ],
      "text/latex": [
       "\\begin{enumerate*}\n",
       "\\item 8\n",
       "\\item 128\n",
       "\\end{enumerate*}\n"
      ],
      "text/markdown": [
       "1. 8\n",
       "2. 128\n",
       "\n",
       "\n"
      ],
      "text/plain": [
       "[1]   8 128"
      ]
     },
     "metadata": {},
     "output_type": "display_data"
    }
   ],
   "source": [
    "barcodes <- provoc::usher_barcodes()\n",
    "available_lineages <- intersect(lineages_in_paper, rownames(barcodes))\n",
    "barcodes <- filter_lineages(barcodes, available_lineages)\n",
    "dim(barcodes)\n"
   ]
  },
  {
   "cell_type": "code",
   "execution_count": null,
   "metadata": {
    "vscode": {
     "languageId": "r"
    }
   },
   "outputs": [],
   "source": [
    "system.time(\n",
    "    res <- provoc(count / coverage ~ .,\n",
    "        data = coco,\n",
    "        lineage_defs = barcodes,\n",
    "        by = \"sra\")\n",
    ")\n",
    "head(res)\n"
   ]
  },
  {
   "cell_type": "code",
   "execution_count": null,
   "metadata": {
    "vscode": {
     "languageId": "r"
    }
   },
   "outputs": [],
   "source": [
    "options(repr.plot.width = 15, repr.plot.height = 12)\n",
    "\n",
    "res$date <- lubridate::ymd(res$date)\n",
    "\n",
    "gg <- autoplot(res, date_col = \"date\") + facet_wrap(~location) +\n",
    "    geom_smooth(formula = y ~ x, se = FALSE, method = \"loess\") +\n",
    "    theme_bw()\n",
    "suppressWarnings(print(gg))\n"
   ]
  }
 ],
 "metadata": {
  "kernelspec": {
   "display_name": "R",
   "language": "R",
   "name": "ir"
  },
  "language_info": {
   "codemirror_mode": "r",
   "file_extension": ".r",
   "mimetype": "text/x-r-source",
   "name": "R",
   "pygments_lexer": "r",
   "version": "4.4.3"
  }
 },
 "nbformat": 4,
 "nbformat_minor": 2
}
