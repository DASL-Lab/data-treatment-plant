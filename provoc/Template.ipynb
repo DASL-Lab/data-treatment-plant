{
 "cells": [
  {
   "cell_type": "markdown",
   "metadata": {},
   "source": [
    "# PRJ - Authors et al.\n",
    "\n",
    "Article link: []()."
   ]
  },
  {
   "cell_type": "code",
   "execution_count": null,
   "metadata": {
    "vscode": {
     "languageId": "r"
    }
   },
   "outputs": [],
   "source": [
    "suppressPackageStartupMessages({\n",
    "    library(provoc)\n",
    "    library(here)\n",
    "    library(ggplot2)\n",
    "    library(lubridate)\n",
    "})\n",
    "\n",
    "prj <- \"\"\n",
    "lineages_in_paper <- c()\n"
   ]
  },
  {
   "cell_type": "code",
   "execution_count": null,
   "metadata": {
    "vscode": {
     "languageId": "r"
    }
   },
   "outputs": [],
   "source": [
    "coco <- read.csv(\n",
    "    here(\n",
    "        \"data/processed/\",\n",
    "        paste0(prj, \"_processed.csv.gz\")\n",
    "    )\n",
    ")\n",
    "coco$mutation <- parse_mutations(coco$label)\n",
    "head(coco)\n"
   ]
  },
  {
   "cell_type": "code",
   "execution_count": null,
   "metadata": {
    "vscode": {
     "languageId": "r"
    }
   },
   "outputs": [],
   "source": [
    "barcodes <- provoc::usher_barcodes()\n",
    "available_lineages <- intersect(lineages_in_paper, rownames(barcodes))\n",
    "barcodes <- filter_lineages(barcodes, available_lineages)\n",
    "dim(barcodes)\n"
   ]
  },
  {
   "cell_type": "code",
   "execution_count": null,
   "metadata": {
    "vscode": {
     "languageId": "r"
    }
   },
   "outputs": [],
   "source": [
    "system.time(\n",
    "    res <- provoc(count / coverage ~ .,\n",
    "        data = coco,\n",
    "        lineage_defs = barcodes,\n",
    "        by = \"sra\")\n",
    ")\n",
    "head(res)\n"
   ]
  },
  {
   "cell_type": "code",
   "execution_count": null,
   "metadata": {
    "vscode": {
     "languageId": "r"
    }
   },
   "outputs": [],
   "source": [
    "options(repr.plot.width = 15, repr.plot.height = 12)\n",
    "\n",
    "res$date <- lubridate::ymd(res$date)\n",
    "\n",
    "gg <- autoplot(res, date_col = \"date\") + facet_wrap(~location) +\n",
    "    geom_smooth(formula = y ~ x, se = FALSE, method = \"loess\") +\n",
    "    theme_bw()\n",
    "suppressWarnings(print(gg))\n"
   ]
  }
 ],
 "metadata": {
  "kernelspec": {
   "display_name": "R",
   "language": "R",
   "name": "ir"
  },
  "language_info": {
   "codemirror_mode": "r",
   "file_extension": ".r",
   "mimetype": "text/x-r-source",
   "name": "R",
   "pygments_lexer": "r",
   "version": "4.4.3"
  }
 },
 "nbformat": 4,
 "nbformat_minor": 2
}
